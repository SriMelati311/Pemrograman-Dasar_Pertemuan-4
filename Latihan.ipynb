{
  "nbformat": 4,
  "nbformat_minor": 0,
  "metadata": {
    "colab": {
      "provenance": [],
      "authorship_tag": "ABX9TyM3h9Z0U25MtUVU2qIBr/h8",
      "include_colab_link": true
    },
    "kernelspec": {
      "name": "python3",
      "display_name": "Python 3"
    },
    "language_info": {
      "name": "python"
    }
  },
  "cells": [
    {
      "cell_type": "markdown",
      "metadata": {
        "id": "view-in-github",
        "colab_type": "text"
      },
      "source": [
        "<a href=\"https://colab.research.google.com/github/SriMelati311/Pemrograman-Dasar_Pertemuan-4/blob/main/Latihan.ipynb\" target=\"_parent\"><img src=\"https://colab.research.google.com/assets/colab-badge.svg\" alt=\"Open In Colab\"/></a>"
      ]
    },
    {
      "cell_type": "code",
      "execution_count": 2,
      "metadata": {
        "colab": {
          "base_uri": "https://localhost:8080/"
        },
        "id": "3NN8J4fiD7md",
        "outputId": "b740144a-bb6c-425a-94cf-1cc9aebeaca5"
      },
      "outputs": [
        {
          "output_type": "stream",
          "name": "stdout",
          "text": [
            "Angka: 35\n",
            "kelipatan 5\n"
          ]
        }
      ],
      "source": [
        "# Meminta input angka dari pengguna\n",
        "angka = int(input(\"Angka: \"))\n",
        "\n",
        "# Mengecek apakah angka habis dibagi 5\n",
        "if angka % 5 == 0:\n",
        "    print(\"kelipatan 5\")\n",
        "else:\n",
        "    print(\"bukan kelipatan 5\")"
      ]
    },
    {
      "cell_type": "code",
      "source": [
        "# Meminta input tahun dari pengguna\n",
        "tahun = int(input(\"Tahun: \"))\n",
        "\n",
        "# Mengecek tahun kabisat\n",
        "if (tahun % 400 == 0) or (tahun % 4 == 0 and tahun % 100 != 0):\n",
        "    print(f\"{tahun} adalah tahun kabisat\")\n",
        "else:\n",
        "    print(f\"{tahun} bukan tahun kabisat\")"
      ],
      "metadata": {
        "colab": {
          "base_uri": "https://localhost:8080/"
        },
        "id": "Lh1h-cyPGQEi",
        "outputId": "335132dc-05a3-45e9-c4b9-fc2a9e194f3a"
      },
      "execution_count": 5,
      "outputs": [
        {
          "output_type": "stream",
          "name": "stdout",
          "text": [
            "Tahun: 2024\n",
            "2024 adalah tahun kabisat\n"
          ]
        }
      ]
    },
    {
      "cell_type": "code",
      "source": [
        "# Meminta input dua bilangan\n",
        "a = float(input(\"Bilangan Pertama: \"))\n",
        "b = float(input(\"Bilangan Kedua: \"))\n",
        "\n",
        "# Meminta pilihan operasi\n",
        "print(\"Pilih operasi:\")\n",
        "print(\"1. Penjumlahan (+)\")\n",
        "print(\"2. Pengurangan (-)\")\n",
        "print(\"3. Perkalian (*)\")\n",
        "pilihan = int(input(\"Pilihan (1-3): \"))\n",
        "\n",
        "# Menentukan operasi dengan kondisi if elif else\n",
        "if pilihan == 1:\n",
        "    hasil = a + b\n",
        "    print(f\"Hasil penjumlahan {a} + {b} = {hasil}\")\n",
        "elif pilihan == 2:\n",
        "    hasil = a - b\n",
        "    print(f\"Hasil pengurangan {a} - {b} = {hasil}\")\n",
        "elif pilihan == 3:\n",
        "    hasil = a * b\n",
        "    print(f\"Hasil perkalian {a} * {b} = {hasil}\")\n",
        "else:\n",
        "    print(\"Pilihan tidak valid.\")"
      ],
      "metadata": {
        "colab": {
          "base_uri": "https://localhost:8080/"
        },
        "id": "2Xldm1WBPG50",
        "outputId": "de7bfbb0-7296-47df-f247-7690c1916823"
      },
      "execution_count": 12,
      "outputs": [
        {
          "output_type": "stream",
          "name": "stdout",
          "text": [
            "Bilangan Pertama: 25\n",
            "Bilangan Kedua: 12\n",
            "Pilih operasi:\n",
            "1. Penjumlahan (+)\n",
            "2. Pengurangan (-)\n",
            "3. Perkalian (*)\n",
            "Pilihan (1-3): 3\n",
            "Hasil perkalian 25.0 * 12.0 = 300.0\n"
          ]
        }
      ]
    },
    {
      "cell_type": "code",
      "source": [
        "# Meminta input bulan dari pengguna\n",
        "bulan = int(input(\"Angka Bulan (1-12): \"))\n",
        "\n",
        "# Mengecek dan menampilkan nama bulan\n",
        "if bulan == 1:\n",
        "    print(\"Januari\")\n",
        "elif bulan == 2:\n",
        "    print(\"Februari\")\n",
        "elif bulan == 3:\n",
        "    print(\"Maret\")\n",
        "elif bulan == 4:\n",
        "    print(\"April\")\n",
        "elif bulan == 5:\n",
        "    print(\"Mei\")\n",
        "elif bulan == 6:\n",
        "    print(\"Juni\")\n",
        "elif bulan == 7:\n",
        "    print(\"Juli\")\n",
        "elif bulan == 8:\n",
        "    print(\"Agustus\")\n",
        "elif bulan == 9:\n",
        "    print(\"September\")\n",
        "elif bulan == 10:\n",
        "    print(\"Oktober\")\n",
        "elif bulan == 11:\n",
        "    print(\"November\")\n",
        "elif bulan == 12:\n",
        "    print(\"Desember\")\n",
        "else:\n",
        "    print(\"Input salah\")"
      ],
      "metadata": {
        "colab": {
          "base_uri": "https://localhost:8080/"
        },
        "id": "86Go_dFpQLJe",
        "outputId": "a0e35d55-ccd1-462e-e77e-726299151a6b"
      },
      "execution_count": 13,
      "outputs": [
        {
          "output_type": "stream",
          "name": "stdout",
          "text": [
            "Angka Bulan (1-12): 5\n",
            "Mei\n"
          ]
        }
      ]
    },
    {
      "cell_type": "code",
      "source": [
        "# Meminta input jam dari pengguna\n",
        "jam = int(input(\"Jam (0-23): \"))\n",
        "\n",
        "# Menentukan salam berdasarkan jam\n",
        "if 0 <= jam <= 11:\n",
        "    print(\"Selamat Pagi\")\n",
        "elif 12 <= jam <= 15:\n",
        "    print(\"Selamat Siang\")\n",
        "elif 16 <= jam <= 18:\n",
        "    print(\"Selamat Sore\")\n",
        "elif 19 <= jam <= 23:\n",
        "    print(\"Selamat Malam\")\n",
        "else:\n",
        "    print(\"Input jam tidak valid (harus 0-23)\")"
      ],
      "metadata": {
        "colab": {
          "base_uri": "https://localhost:8080/"
        },
        "id": "swYb3o-dUOgY",
        "outputId": "c5ac24fe-839e-44e5-ae88-90118929594a"
      },
      "execution_count": 14,
      "outputs": [
        {
          "output_type": "stream",
          "name": "stdout",
          "text": [
            "Jam (0-23): 8\n",
            "Selamat Pagi\n"
          ]
        }
      ]
    }
  ]
}